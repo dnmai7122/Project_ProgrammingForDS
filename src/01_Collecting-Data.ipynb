{
 "cells": [
  {
   "cell_type": "markdown",
   "metadata": {},
   "source": [
    "<div style=\"text-align: center; background-color: #958791; font-family: 'Trebuchet MS', Arial, sans-serif; color: white; padding: 20px; font-size: 40px; font-weight: bold; border-radius: 0 0 0 0; box-shadow: 0px 6px 8px rgba(0, 0, 0, 0.2);\">\n",
    "  Collecting Data \n",
    "  \n",
    "</div>\n"
   ]
  },
  {
   "cell_type": "markdown",
   "metadata": {},
   "source": [
    "<div class=\"list-group\" id=\"list-tab\" role=\"tablist\">\n",
    "    <h3 style=\"text-align: left; background-color:#EDC0C7; font-family:newtimeroman;color: black; padding: 14px; line-height: 1;border-radius:10px\"><b> Mục lục </b></h3>\n",
    "    <ol>\n",
    "        <li><a href=\"#0\" class=\"list-group-item list-group-item-action\">Giới thiệu</a></li>\n",
    "        <ul>\n",
    "            <li><a href=\"#1\" class=\"list-group-item list-group-item-action\">1.1 Sơ bộ về tập dữ liệu</a></li>\n",
    "            <li><a href=\"#2\" class=\"list-group-item list-group-item-action\">1.2 Nguồn thu thập dữ liệu</a></li>\n",
    "            <li><a href=\"#3\" class=\"list-group-item list-group-item-action\">1.3 Bản quyền của tập dữ liệu</a></li>\n",
    "            <li><a href=\"#4\" class=\"list-group-item list-group-item-action\">1.4 Tác giả đã tiến hành thu thập dữ liệu như thế nào?</a></li>\n",
    "        </ul>\n",
    "    </ol>\n",
    "</div>"
   ]
  },
  {
   "cell_type": "markdown",
   "metadata": {},
   "source": [
    "<a class=\"anchor\" id=\"0\"></a>\n",
    "## <div style=\"text-align: left; background-color:#EDC0C7; font-family:newtimeroman;color: black; padding: 14px; line-height: 1;border-radius:10px\">Giới thiệu</div>"
   ]
  },
  {
   "cell_type": "markdown",
   "metadata": {},
   "source": [
    "<a class=\"anchor\" id=\"1\"></a>\n",
    "\n",
    "## <span style='color:#2B9C15 '> 1.1 Sơ bộ về tập dữ liệu  </span>\n",
    "- Tập dữ liệu của chúng tôi có tên là [Anime Recommendation Database 2020](https://www.kaggle.com/datasets/hernan4444/anime-recommendation-database-2020/) chứa thông tin về 17.562 anime và sở thích từ 325.772 người dùng khác nhau. Đặc biệt, tập dữ liệu này chứa:\n",
    "\n",
    "    - Danh sách anime cho mỗi người dùng. Bao gồm đã bỏ, hoàn thành, dự định xem, hiện đang xem và đang chờ.\n",
    "    - Xếp hạng do người dùng đưa ra cho các anime mà họ đã xem hết.\n",
    "    - Thông tin về anime như thể loại, số liệu thống kê, studio, v.v.\n",
    "    - HTML với thông tin anime để loại bỏ dữ liệu. Các tệp này chứa các thông tin như đánh giá, tóm tắt, thông tin về nhân viên, số liệu thống kê về anime, thể loại, v.v.\n",
    "\n",
    "- Trong dự án của chúng tôi, chúng tôi chủ yếu làm việc với tập dữ liệu `anime.csv`, chứa thông tin chung của mọi anime (17.562 anime khác nhau) như thể loại, số liệu thống kê, studio, v.v. Tệp này có các cột sau:\n",
    "\n",
    "\n",
    "| **TÊN CỘT**          |**Ý NGHĨA**               |\n",
    "|:---------------------|:-------------------------------------------------------------|\n",
    "|**`MAL_ID`**          | ID của mỗi anime trong MyAnimeList (MAL), mỗi anime sẽ có 1 ID riêng biệt               |\n",
    "|**`Name`**            | Tựa đề của anime                                                             |\n",
    "|**`Score`**           | Điểm trung bình của anime được tính trên toàn bộ cơ sở dữ liệu trên MAL                   |\n",
    "|**`Genres`**          | Danh sách các thể loại của anime                                                    |\n",
    "|**`English name`**    | Tựa đề tiếng Anh của anime                                                |\n",
    "|**`Japanese name`**   | Tựa đề tiếng Nhật của anime                       |\n",
    "|**`Type`**            | Dạng phát hành của anime (TV, movie, OVA,...)                               |\n",
    "|**`Episodes`**        | Số tập của anime                                                                      |\n",
    "|**`Aired`**           | Ngày phát hành anime                                                                      |\n",
    "|**`Premiered`**       | Thời gian phát hành của anime tính theo 4 mùa trong 1 năm                                  |\n",
    "|**`Producers'`**      | Danh sách những đơn vị sản xuất anime                                                       |\n",
    "|**`Licensors`**       | Danh sách những đơn vị cấp phép cho anime                                                    |\n",
    "|**`Studios`**         | Danh sách các Studios làm ra anime                            |\n",
    "|**`Source`**          | Nguồn gốc của anime trước khi được chuyển thể (Manga, Light novel, Book,...)                      |\n",
    "|**`Duration`**        | Độ dài của 1 tập anime phát sóng                                                |\n",
    "|**`Rating`**          | Độ tuổi giới hạn để có thể coi anime    |\n",
    "|**`Ranked`**          | Xếp hạng của anime dựa trên điểm trung     |\n",
    "|**`Popularity`**      | Độ phổ biến của anime dựa trên số lượng người thêm anime vào danh sách của họ    |\n",
    "|**`Members`**         | Số lượng người dùng có anime này trong list của họ    |\n",
    "|**`Favorites`**       | Số lượng người dùng yêu thích anime này    |\n",
    "|**`Watching`**        | Số lượng người đã xem anime này   |\n",
    "|**`Completed`**       | Số lượng người dùng đã xem hết anime    |\n",
    "|**`On-Hold`**         | Số lượng người dùng đang xem anime này nhưng đang tạm dừng lại    |\n",
    "|**`Dropped`**         | Số lượng người dùng đang xem anime này nhưng bỏ không xem nữa   |\n",
    "|**`Plan to Watch`**   | Số lượng người dùng dự định xem anime.|\n",
    "|**`Score-10`**        | Số lượng người chấm anime 10 điểm     |\n",
    "|**`Score-9`**         | Số lượng người chấm anime 9 điểm     |\n",
    "|**`Score-8`**         | Số lượng người chấm anime 8 điểm     |\n",
    "|**`Score-7`**         | Số lượng người chấm anime 7 điểm     |\n",
    "|**`Score-6`**         | Số lượng người chấm anime 6 điểm     |\n",
    "|**`Score-5`**         | Số lượng người chấm anime 5 điểm     |\n",
    "|**`Score-4`**         | Số lượng người chấm anime 4 điểm     |\n",
    "|**`Score-3`**         | Số lượng người chấm anime 3 điểm     |\n",
    "|**`Score-2`**         | Số lượng người chấm anime 2 điểm     |\n",
    "|**`Score-1`**         | Số lượng người chấm anime 1 điểm     |"
   ]
  },
  {
   "cell_type": "markdown",
   "metadata": {},
   "source": [
    "<a class=\"anchor\" id=\"2\"></a>\n",
    "\n",
    "## <span style='color:#2B9C15 '> 1.2 Nguồn thu thập dữ liệu  </span>\n",
    "\n",
    "1. [MyAnimeList](https://myanimelist.net/) cung cấp dữ liệu về anime.\n",
    "2. [Jikan API](https://jikan.moe/) cung cấp thông tin về anime từ MyAnimeList (MAL) thông qua các yêu cầu HTTP.\n",
    "3. [Pontificia Universidad Católica de Chile](https://www.uc.cl/) cung cấp máy chủ để chạy mã nguồn.\n"
   ]
  },
  {
   "cell_type": "markdown",
   "metadata": {},
   "source": [
    "<a class=\"anchor\" id=\"3\"></a>\n",
    "\n",
    "## <span style='color:#2B9C15 '> 1.3 Bản quyền của tập dữ liệu </span>\n",
    "- [CC0: Public Domain](https://creativecommons.org/publicdomain/zero/1.0/)"
   ]
  },
  {
   "cell_type": "markdown",
   "metadata": {},
   "source": [
    "<a class=\"anchor\" id=\"4\"></a>\n",
    "\n",
    "## <span style='color:#2B9C15 '> 1.4 Tác giả đã tiến hành thu thập dữ liệu như thế nào?  </span>\n",
    "\n",
    "- Tác giả của bộ dữ liệu [Anime Recommendation Database 2020](https://www.kaggle.com/datasets/hernan4444/anime-recommendation-database-2020/) trên Kaggle đã thu thập dữ liệu thông qua quá trình thu thập dữ liệu tự động (web scraping) từ MyAnimeList, đây là một ứng dụng mạng xã hội và danh mục cộng đồng dành cho anime và manga. \n",
    "\n",
    "- Thời gian Thu Thập Dữ Liệu: Dữ liệu đã được thu thập từ ngày 26 tháng 2 đến ngày 20 tháng 3.\n",
    "\n",
    "- Thu Thập Trang HTML: Tác giả đã lưu các tệp nén cho mỗi tựa anime khác nhau (17.562 tựa). Mỗi tệp nén chứa nhiều trang HTML đã được thu thập từ MyAnimeList, bao gồm:\n",
    "     - Main page\n",
    "     - Reviews\n",
    "     - Recommendations\n",
    "     - Stats\n",
    "     - Characters & Staff\n",
    "\n",
    "- Bộ dữ liệu bao gồm 4 file như sau:\n",
    "\n",
    "     - `Tệp HTML`: Thư mục *html* chứa các tệp nén cho mỗi anime trong số **17,562** bộ anime, mỗi tệp chứa các trang HTML khác nhau được lấy từ MyAnimeList.\n",
    "\n",
    "     - `animelist.csv`: File này liệt kê tất cả các anime được người dùng đăng ký, bao gồm điểm tương ứng, trạng thái xem và số tập đã xem. Bộ dữ liệu bao gồm **109 triệu** hàng, bao gồm **17,562** bộ anime khác nhau và liên quan đến **325,772** người dùng riêng biệt.\n",
    "\n",
    "     - `rating_complete.csv`: File là tập hợp con của `animelist.csv`, chỉ xem xét các anime mà người dùng đã xem hết (watching_status==2) và được xếp hạng (điểm!=0). Nó chứa **57 triệu** xếp hạng được áp dụng cho **16,872** bộ anime bởi **310,059** người dùng.\n",
    "\n",
    "     - `anime.csv`: File này chứa thông tin chung cho từng bộ anime trong số **17,562** bộ anime, bao gồm MyAnimeList ID, tên, điểm trung bình, thể loại, tên tiếng Anh và tiếng Nhật, loại (TV, phim, OVA, v.v.), số tập, chi tiết phát sóng, nhà sản xuất, người cấp phép, hãng phim, tài liệu nguồn, thời lượng, xếp hạng độ tuổi, thứ hạng, mức độ phổ biến, thành viên cộng đồng, mục yêu thích và nhiều điểm số khác nhau từ người dùng dựa trên xếp hạng của họ."
   ]
  }
 ],
 "metadata": {
  "language_info": {
   "name": "python"
  }
 },
 "nbformat": 4,
 "nbformat_minor": 2
}
