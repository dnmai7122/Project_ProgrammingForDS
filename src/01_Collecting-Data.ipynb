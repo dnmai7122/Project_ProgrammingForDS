{
 "cells": [
  {
   "cell_type": "markdown",
   "metadata": {},
   "source": [
    "# <p style=\"text-align: center;\"> <b> Collecting Data </b></p>\n",
    "---"
   ]
  },
  {
   "cell_type": "markdown",
   "metadata": {},
   "source": [
    "<div class=\"list-group\" id=\"list-tab\" role=\"tablist\">\n",
    "    <h3 style=\"text-align: left; background-color: #EDC0C7; font-family:newtimeroman; color: black; padding: 14px; line-height: 1; border-radius:10px\"><b>Table of Contents ✍️</b></h3>"
   ]
  },
  {
   "cell_type": "markdown",
   "metadata": {},
   "source": [
    "<a class=\"anchor\" id=\"introduction\"></a>\n",
    "## <div style=\"text-align: left; background-color:#EDC0C7; font-family:newtimeroman;color: black; padding: 14px; line-height: 1;border-radius:10px\">1. Introduction</div>\n",
    "\n",
    "<a class=\"anchor\" id=\"About Dataset\"></a>\n",
    "\n",
    "## <span style='color:#2B9C15 '> 1.1 About Dataset  </span>\n",
    "- Our dataset called [Anime Recommendation Database 2020](https://www.kaggle.com/datasets/hernan4444/anime-recommendation-database-2020/) contains information about 17.562 anime and the preference from 325.772 different users. In particular, this dataset contain:\n",
    "\n",
    "- The anime list per user. Include dropped, complete, plan to watch, currently watching and on hold.\n",
    "- Ratings given by users to the animes that they has watched completely.\n",
    "- Information about the anime like genre, stats, studio, etc.\n",
    "- HTML with anime information to do data scrapping. These files contain information such as reviews, synopsis, information about the staff, anime statistics, genre, etc.\n",
    "\n",
    "- In our project we mainly work with dataset `anime.csv`, contain general information of every anime (17.562 different anime) like genre, stats, studio, etc. This file have the following columns:\n",
    "\n",
    "| **ATTRIBUTES**      | **MEANING**                                                |\n",
    "|:---------------------|:-----------------------------------------------------------|\n",
    "| **`Name`**           | Full name of the anime. (e.g., Cowboy Bebop)               |\n",
    "| **`Score`**          | Average score of the anime given from all users in MyAnimeList database. (e.g., 8.78) |\n",
    "| **`Genres`**         | Comma-separated list of genres for this anime. (e.g., Action, Adventure, Comedy, Drama, Sci-Fi, Space) |\n",
    "| **`English name`**   | Full name in English of the anime. (e.g., Cowboy Bebop)    |\n",
    "| **`Japanese name`**  | Full name in Japanese of the anime. (e.g., カウボーイビバップ) |\n",
    "| **`Type`**           | TV, movie, OVA, etc. (e.g., TV)                             |\n",
    "| **`Episodes`**       | Number of chapters. (e.g., 26)                              |\n",
    "| **`Aired`**          | Broadcast date. (e.g., Apr 3, 1998 to Apr 24, 1999)        |\n",
    "| **`Premiered`**      | Season premiere. (e.g., Spring 1998)                       |\n",
    "| **`Producers`**      | Comma-separated list of producers. (e.g., Bandai Visual)   |\n",
    "| **`Licensors`**      | Comma-separated list of licensors. (e.g., Funimation, Bandai Entertainment) |\n",
    "| **`Studios`**        | Comma-separated list of studios. (e.g., Sunrise)           |\n",
    "| **`Source`**         | Manga, Light novel, Book, etc. (e.g., Original)            |\n",
    "| **`Duration`**       | Duration of the anime per episode (e.g., 24 min. per ep.) |\n",
    "| **`Rating`**         | Age rate (e.g., R - 17+ (violence & profanity))            |\n",
    "| **`Ranked`**         | Position based on the score. (e.g., 28)                    |\n",
    "| **`Popularity`**     | Position based on the number of users who have added the anime to their list. (e.g., 39) |\n",
    "| **`Members`**        | Number of community members that are in this anime's \"group\". (e.g., 1251960) |\n",
    "| **`Favorites`**      | Number of users who have the anime as \"favorites\". (e.g., 61,971) |\n",
    "| **`Watching`**       | Number of users who are watching the anime. (e.g., 105808)  |\n",
    "| **`Completed`**      | Number of users who have completed the anime. (e.g., 718161) |\n",
    "| **`On-Hold`**        | Number of users who have the anime on hold. (e.g., 71513)  |\n",
    "| **`Dropped`**        | Number of users who have dropped the anime. (e.g., 26678)  |\n",
    "| **`Plan to Watch`**  | Number of users who plan to watch the anime. (e.g., 329800) |\n",
    "| **`Score-10`**       | Number of users who scored 10. (e.g., 229170)              |\n",
    "| **`Score-9`**        | Number of users who scored 9. (e.g., 182126)               |\n",
    "| **`Score-8`**        | Number of users who scored 8. (e.g., 131625)               |\n",
    "| **`Score-7`**        | Number of users who scored 7. (e.g., 62330)                |\n",
    "| **`Score-6`**        | Number of users who scored 6. (e.g., 20688)                |\n",
    "| **`Score-5`**        | Number of users who scored 5. (e.g., 8904)                 |\n",
    "| **`Score-4`**        | Number of users who scored 4. (e.g., 3184)                 |\n",
    "| **`Score-3`**        | Number of users who scored 3. (e.g., 1357)                 |\n",
    "| **`Score-2`**        | Number of users who scored 2. (e.g., 741)                  |\n",
    "| **`Score-1`**        | Number of users who scored 1. (e.g., 1580)                 |\n",
    "\n",
    "## <span style='color:#2B9C15 '> 1.2 Data Sources  </span>\n",
    "\n",
    "1. [MyAnimeList](https://myanimelist.net/) for providing anime data.\n",
    "2. [Jikan API](https://jikan.moe/) for providing users' preferences.\n",
    "3. [Pontificia Universidad Católica de Chile](https://www.uc.cl/) for providing servers to run the code.\n",
    "\n",
    "## <span style='color:#2B9C15 '> 1.3 How did the author collect data?  </span>\n",
    "\n",
    "- The author collected the data for the MyAnimeList Database 2020 through web scraping from the [MyAnimeList](https://myanimelist.net/). The dataset comprises information from 17,562 anime titles and preferences from 325,772 unique users. The data collection period spanned from February 26th to March 20th.\n",
    "\n",
    "- The dataset includes several components:\n",
    "\n",
    "    - HTML Files: The \"html\" folder contains zipped files for each of the 17,562 anime titles, each containing various HTML pages scraped from MyAnimeList. These pages include information such as the main page, reviews, recommendations, stats, characters, and staff details.\n",
    "\n",
    "    - animelist.csv: This file lists all anime registered by users, including the respective score, watching status, and the number of episodes watched. The dataset consists of 109 million rows, covering 17,562 different anime titles and involving 325,772 distinct users.\n",
    "\n",
    "    - rating_complete.csv: This dataset is a subset of animelist.csv, considering only animes that users have watched completely (watching_status==2) and rated (score!=0). It contains 57 million ratings applied to 16,872 anime titles by 310,059 users.\n",
    "\n",
    "    - anime.csv: This file contains general information for each of the 17,562 anime titles, including MyAnimeList ID, name, average score, genres, English and Japanese names, type (TV, movie, OVA, etc.), number of episodes, airing details, producers, licensors, studios, source material, duration, age rating, rankings, popularity, community members, favorites, and various scores from users based on their ratings."
   ]
  }
 ],
 "metadata": {
  "language_info": {
   "name": "python"
  }
 },
 "nbformat": 4,
 "nbformat_minor": 2
}
